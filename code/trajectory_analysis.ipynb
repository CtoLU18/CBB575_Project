{
 "cells": [
  {
   "cell_type": "code",
   "execution_count": 10,
   "metadata": {},
   "outputs": [],
   "source": [
    "import pandas as pd\n",
    "import numpy as np\n",
    "import plotnine as p9"
   ]
  },
  {
   "cell_type": "markdown",
   "metadata": {},
   "source": [
    "## Data Preprocessing and cleaning"
   ]
  },
  {
   "cell_type": "code",
   "execution_count": 11,
   "metadata": {},
   "outputs": [],
   "source": [
    "df1_clust = pd.read_csv(\"temp_data/dfT1.T_50.csv\")\n",
    "df2_clust = pd.read_csv(\"temp_data/dfT2.T_50.csv\")\n",
    "df3_clust = pd.read_csv(\"temp_data/dfT3.T_50.csv\")\n",
    "df4_clust = pd.read_csv(\"temp_data/dfT4.T_50.csv\")"
   ]
  },
  {
   "cell_type": "code",
   "execution_count": 12,
   "metadata": {},
   "outputs": [],
   "source": [
    "df1_clust = df1_clust[['Unnamed: 0','cluster']]\n",
    "df2_clust = df2_clust[['Unnamed: 0','cluster']]\n",
    "df3_clust = df3_clust[['Unnamed: 0','cluster']]\n",
    "df4_clust = df4_clust[['Unnamed: 0','cluster']]"
   ]
  },
  {
   "cell_type": "code",
   "execution_count": 13,
   "metadata": {},
   "outputs": [],
   "source": [
    "#Remove the first character from the Unnamed: 0 column\n",
    "df1_clust['Unnamed: 0'] = df1_clust['Unnamed: 0'].str[1:]\n",
    "df2_clust['Unnamed: 0'] = df2_clust['Unnamed: 0'].str[1:]\n",
    "df3_clust['Unnamed: 0'] = df3_clust['Unnamed: 0'].str[1:]\n",
    "df4_clust['Unnamed: 0'] = df4_clust['Unnamed: 0'].str[1:]"
   ]
  },
  {
   "cell_type": "code",
   "execution_count": 14,
   "metadata": {},
   "outputs": [],
   "source": [
    "df1_clust.columns = ['sample_ID','cluster']\n",
    "df2_clust.columns = ['sample_ID','cluster']\n",
    "df3_clust.columns = ['sample_ID','cluster']\n",
    "df4_clust.columns = ['sample_ID','cluster']"
   ]
  },
  {
   "cell_type": "code",
   "execution_count": 15,
   "metadata": {},
   "outputs": [],
   "source": [
    "df1_exp = pd.read_csv(\"temp_data/T1.csv\")\n",
    "df2_exp = pd.read_csv(\"temp_data/T2.csv\")\n",
    "df3_exp = pd.read_csv(\"temp_data/T3.csv\")\n",
    "df4_exp = pd.read_csv(\"temp_data/T4.csv\")"
   ]
  },
  {
   "cell_type": "code",
   "execution_count": 17,
   "metadata": {},
   "outputs": [],
   "source": [
    "df1_exp = df1_exp.T\n",
    "df2_exp = df2_exp.T\n",
    "df3_exp = df3_exp.T\n",
    "df4_exp = df4_exp.T"
   ]
  },
  {
   "cell_type": "code",
   "execution_count": 18,
   "metadata": {},
   "outputs": [],
   "source": [
    "df1_exp.columns = df1_exp.iloc[0]\n",
    "df2_exp.columns = df2_exp.iloc[0]\n",
    "df3_exp.columns = df3_exp.iloc[0]\n",
    "df4_exp.columns = df4_exp.iloc[0]\n"
   ]
  },
  {
   "cell_type": "code",
   "execution_count": 19,
   "metadata": {},
   "outputs": [],
   "source": [
    "df1_exp = df1_exp.drop(df1_exp.index[0])\n",
    "df2_exp = df2_exp.drop(df2_exp.index[0])\n",
    "df3_exp = df3_exp.drop(df3_exp.index[0])\n",
    "df4_exp = df4_exp.drop(df4_exp.index[0])"
   ]
  },
  {
   "cell_type": "code",
   "execution_count": 22,
   "metadata": {},
   "outputs": [],
   "source": [
    "df1_exp['sample_ID'] = df1_exp.index\n",
    "df2_exp['sample_ID'] = df2_exp.index\n",
    "df3_exp['sample_ID'] = df3_exp.index\n",
    "df4_exp['sample_ID'] = df4_exp.index"
   ]
  },
  {
   "cell_type": "code",
   "execution_count": 23,
   "metadata": {},
   "outputs": [],
   "source": [
    "#Do inner join to get the expression data and cluster data together\n",
    "df1 = pd.merge(df1_exp,df1_clust,on='sample_ID')\n",
    "df2 = pd.merge(df2_exp,df2_clust,on='sample_ID')\n",
    "df3 = pd.merge(df3_exp,df3_clust,on='sample_ID')\n",
    "df4 = pd.merge(df4_exp,df4_clust,on='sample_ID')\n"
   ]
  },
  {
   "cell_type": "code",
   "execution_count": 25,
   "metadata": {},
   "outputs": [],
   "source": [
    "df1.index = df1['sample_ID']\n",
    "df2.index = df2['sample_ID']\n",
    "df3.index = df3['sample_ID']\n",
    "df4.index = df4['sample_ID']\n",
    "\n",
    "df1 = df1.drop(columns=['sample_ID'])\n",
    "df2 = df2.drop(columns=['sample_ID'])\n",
    "df3 = df3.drop(columns=['sample_ID'])\n",
    "df4 = df4.drop(columns=['sample_ID'])"
   ]
  },
  {
   "cell_type": "markdown",
   "metadata": {},
   "source": [
    "## Analysis"
   ]
  },
  {
   "cell_type": "code",
   "execution_count": 30,
   "metadata": {},
   "outputs": [
    {
     "ename": "ValueError",
     "evalue": "data type <class 'numpy.object_'> not inexact",
     "output_type": "error",
     "traceback": [
      "\u001b[0;31m---------------------------------------------------------------------------\u001b[0m",
      "\u001b[0;31mValueError\u001b[0m                                Traceback (most recent call last)",
      "Cell \u001b[0;32mIn[30], line 12\u001b[0m\n\u001b[1;32m     10\u001b[0m p_values \u001b[38;5;241m=\u001b[39m []\n\u001b[1;32m     11\u001b[0m \u001b[38;5;28;01mfor\u001b[39;00m gene \u001b[38;5;129;01min\u001b[39;00m df1\u001b[38;5;241m.\u001b[39mcolumns[:\u001b[38;5;241m-\u001b[39m\u001b[38;5;241m1\u001b[39m]:\n\u001b[0;32m---> 12\u001b[0m     t_stat, p_val \u001b[38;5;241m=\u001b[39m \u001b[43mttest_ind\u001b[49m\u001b[43m(\u001b[49m\u001b[43mdf1_0\u001b[49m\u001b[43m[\u001b[49m\u001b[43mgene\u001b[49m\u001b[43m]\u001b[49m\u001b[43m,\u001b[49m\u001b[43mdf1_1\u001b[49m\u001b[43m[\u001b[49m\u001b[43mgene\u001b[49m\u001b[43m]\u001b[49m\u001b[43m)\u001b[49m\n\u001b[1;32m     13\u001b[0m     p_values\u001b[38;5;241m.\u001b[39mappend(p_val)\n\u001b[1;32m     15\u001b[0m df1_p \u001b[38;5;241m=\u001b[39m pd\u001b[38;5;241m.\u001b[39mDataFrame(p_values)\n",
      "File \u001b[0;32m/opt/homebrew/Caskroom/mambaforge/base/envs/o3c/lib/python3.10/site-packages/scipy/stats/_axis_nan_policy.py:573\u001b[0m, in \u001b[0;36m_axis_nan_policy_factory.<locals>.axis_nan_policy_decorator.<locals>.axis_nan_policy_wrapper\u001b[0;34m(***failed resolving arguments***)\u001b[0m\n\u001b[1;32m    570\u001b[0m     res \u001b[38;5;241m=\u001b[39m _add_reduced_axes(res, reduced_axes, keepdims)\n\u001b[1;32m    571\u001b[0m     \u001b[38;5;28;01mreturn\u001b[39;00m tuple_to_result(\u001b[38;5;241m*\u001b[39mres)\n\u001b[0;32m--> 573\u001b[0m res \u001b[38;5;241m=\u001b[39m \u001b[43mhypotest_fun_out\u001b[49m\u001b[43m(\u001b[49m\u001b[38;5;241;43m*\u001b[39;49m\u001b[43msamples\u001b[49m\u001b[43m,\u001b[49m\u001b[43m \u001b[49m\u001b[38;5;241;43m*\u001b[39;49m\u001b[38;5;241;43m*\u001b[39;49m\u001b[43mkwds\u001b[49m\u001b[43m)\u001b[49m\n\u001b[1;32m    574\u001b[0m res \u001b[38;5;241m=\u001b[39m result_to_tuple(res)\n\u001b[1;32m    575\u001b[0m res \u001b[38;5;241m=\u001b[39m _add_reduced_axes(res, reduced_axes, keepdims)\n",
      "File \u001b[0;32m/opt/homebrew/Caskroom/mambaforge/base/envs/o3c/lib/python3.10/site-packages/scipy/stats/_stats_py.py:7007\u001b[0m, in \u001b[0;36mttest_ind\u001b[0;34m(a, b, axis, equal_var, nan_policy, permutations, random_state, alternative, trim)\u001b[0m\n\u001b[1;32m   7005\u001b[0m     old_errstate \u001b[38;5;241m=\u001b[39m np\u001b[38;5;241m.\u001b[39mgeterr()\n\u001b[1;32m   7006\u001b[0m     np\u001b[38;5;241m.\u001b[39mseterr(divide\u001b[38;5;241m=\u001b[39m\u001b[38;5;124m'\u001b[39m\u001b[38;5;124mignore\u001b[39m\u001b[38;5;124m'\u001b[39m, invalid\u001b[38;5;241m=\u001b[39m\u001b[38;5;124m'\u001b[39m\u001b[38;5;124mignore\u001b[39m\u001b[38;5;124m'\u001b[39m)\n\u001b[0;32m-> 7007\u001b[0m v1 \u001b[38;5;241m=\u001b[39m \u001b[43m_var\u001b[49m\u001b[43m(\u001b[49m\u001b[43ma\u001b[49m\u001b[43m,\u001b[49m\u001b[43m \u001b[49m\u001b[43maxis\u001b[49m\u001b[43m,\u001b[49m\u001b[43m \u001b[49m\u001b[43mddof\u001b[49m\u001b[38;5;241;43m=\u001b[39;49m\u001b[38;5;241;43m1\u001b[39;49m\u001b[43m)\u001b[49m\n\u001b[1;32m   7008\u001b[0m v2 \u001b[38;5;241m=\u001b[39m _var(b, axis, ddof\u001b[38;5;241m=\u001b[39m\u001b[38;5;241m1\u001b[39m)\n\u001b[1;32m   7009\u001b[0m \u001b[38;5;28;01mif\u001b[39;00m equal_var:\n",
      "File \u001b[0;32m/opt/homebrew/Caskroom/mambaforge/base/envs/o3c/lib/python3.10/site-packages/scipy/stats/_stats_py.py:1111\u001b[0m, in \u001b[0;36m_var\u001b[0;34m(x, axis, ddof, mean, xp)\u001b[0m\n\u001b[1;32m   1108\u001b[0m \u001b[38;5;28;01mdef\u001b[39;00m \u001b[38;5;21m_var\u001b[39m(x, axis\u001b[38;5;241m=\u001b[39m\u001b[38;5;241m0\u001b[39m, ddof\u001b[38;5;241m=\u001b[39m\u001b[38;5;241m0\u001b[39m, mean\u001b[38;5;241m=\u001b[39m\u001b[38;5;28;01mNone\u001b[39;00m, xp\u001b[38;5;241m=\u001b[39m\u001b[38;5;28;01mNone\u001b[39;00m):\n\u001b[1;32m   1109\u001b[0m     \u001b[38;5;66;03m# Calculate variance of sample, warning if precision is lost\u001b[39;00m\n\u001b[1;32m   1110\u001b[0m     xp \u001b[38;5;241m=\u001b[39m array_namespace(x) \u001b[38;5;28;01mif\u001b[39;00m xp \u001b[38;5;129;01mis\u001b[39;00m \u001b[38;5;28;01mNone\u001b[39;00m \u001b[38;5;28;01melse\u001b[39;00m xp\n\u001b[0;32m-> 1111\u001b[0m     var \u001b[38;5;241m=\u001b[39m \u001b[43m_moment\u001b[49m\u001b[43m(\u001b[49m\u001b[43mx\u001b[49m\u001b[43m,\u001b[49m\u001b[43m \u001b[49m\u001b[38;5;241;43m2\u001b[39;49m\u001b[43m,\u001b[49m\u001b[43m \u001b[49m\u001b[43maxis\u001b[49m\u001b[43m,\u001b[49m\u001b[43m \u001b[49m\u001b[43mmean\u001b[49m\u001b[38;5;241;43m=\u001b[39;49m\u001b[43mmean\u001b[49m\u001b[43m,\u001b[49m\u001b[43m \u001b[49m\u001b[43mxp\u001b[49m\u001b[38;5;241;43m=\u001b[39;49m\u001b[43mxp\u001b[49m\u001b[43m)\u001b[49m\n\u001b[1;32m   1112\u001b[0m     \u001b[38;5;28;01mif\u001b[39;00m ddof \u001b[38;5;241m!=\u001b[39m \u001b[38;5;241m0\u001b[39m:\n\u001b[1;32m   1113\u001b[0m         n \u001b[38;5;241m=\u001b[39m x\u001b[38;5;241m.\u001b[39mshape[axis] \u001b[38;5;28;01mif\u001b[39;00m axis \u001b[38;5;129;01mis\u001b[39;00m \u001b[38;5;129;01mnot\u001b[39;00m \u001b[38;5;28;01mNone\u001b[39;00m \u001b[38;5;28;01melse\u001b[39;00m x\u001b[38;5;241m.\u001b[39msize\n",
      "File \u001b[0;32m/opt/homebrew/Caskroom/mambaforge/base/envs/o3c/lib/python3.10/site-packages/scipy/stats/_stats_py.py:1081\u001b[0m, in \u001b[0;36m_moment\u001b[0;34m(a, order, axis, mean, xp)\u001b[0m\n\u001b[1;32m   1078\u001b[0m mean \u001b[38;5;241m=\u001b[39m mean[()] \u001b[38;5;28;01mif\u001b[39;00m mean\u001b[38;5;241m.\u001b[39mndim \u001b[38;5;241m==\u001b[39m \u001b[38;5;241m0\u001b[39m \u001b[38;5;28;01melse\u001b[39;00m mean\n\u001b[1;32m   1079\u001b[0m a_zero_mean \u001b[38;5;241m=\u001b[39m a \u001b[38;5;241m-\u001b[39m mean\n\u001b[0;32m-> 1081\u001b[0m eps \u001b[38;5;241m=\u001b[39m \u001b[43mxp\u001b[49m\u001b[38;5;241;43m.\u001b[39;49m\u001b[43mfinfo\u001b[49m\u001b[43m(\u001b[49m\u001b[43mdtype\u001b[49m\u001b[43m)\u001b[49m\u001b[38;5;241m.\u001b[39meps \u001b[38;5;241m*\u001b[39m \u001b[38;5;241m10\u001b[39m\n\u001b[1;32m   1083\u001b[0m \u001b[38;5;28;01mwith\u001b[39;00m np\u001b[38;5;241m.\u001b[39merrstate(divide\u001b[38;5;241m=\u001b[39m\u001b[38;5;124m'\u001b[39m\u001b[38;5;124mignore\u001b[39m\u001b[38;5;124m'\u001b[39m, invalid\u001b[38;5;241m=\u001b[39m\u001b[38;5;124m'\u001b[39m\u001b[38;5;124mignore\u001b[39m\u001b[38;5;124m'\u001b[39m):\n\u001b[1;32m   1084\u001b[0m     rel_diff \u001b[38;5;241m=\u001b[39m xp\u001b[38;5;241m.\u001b[39mmax(xp\u001b[38;5;241m.\u001b[39mabs(a_zero_mean), axis\u001b[38;5;241m=\u001b[39maxis,\n\u001b[1;32m   1085\u001b[0m                       keepdims\u001b[38;5;241m=\u001b[39m\u001b[38;5;28;01mTrue\u001b[39;00m) \u001b[38;5;241m/\u001b[39m xp\u001b[38;5;241m.\u001b[39mabs(mean)\n",
      "File \u001b[0;32m/opt/homebrew/Caskroom/mambaforge/base/envs/o3c/lib/python3.10/site-packages/numpy/_core/getlimits.py:519\u001b[0m, in \u001b[0;36mfinfo.__new__\u001b[0;34m(cls, dtype)\u001b[0m\n\u001b[1;32m    517\u001b[0m     dtype \u001b[38;5;241m=\u001b[39m newdtype\n\u001b[1;32m    518\u001b[0m \u001b[38;5;28;01mif\u001b[39;00m \u001b[38;5;129;01mnot\u001b[39;00m \u001b[38;5;28missubclass\u001b[39m(dtype, numeric\u001b[38;5;241m.\u001b[39minexact):\n\u001b[0;32m--> 519\u001b[0m     \u001b[38;5;28;01mraise\u001b[39;00m \u001b[38;5;167;01mValueError\u001b[39;00m(\u001b[38;5;124m\"\u001b[39m\u001b[38;5;124mdata type \u001b[39m\u001b[38;5;132;01m%r\u001b[39;00m\u001b[38;5;124m not inexact\u001b[39m\u001b[38;5;124m\"\u001b[39m \u001b[38;5;241m%\u001b[39m (dtype))\n\u001b[1;32m    520\u001b[0m obj \u001b[38;5;241m=\u001b[39m \u001b[38;5;28mcls\u001b[39m\u001b[38;5;241m.\u001b[39m_finfo_cache\u001b[38;5;241m.\u001b[39mget(dtype)\n\u001b[1;32m    521\u001b[0m \u001b[38;5;28;01mif\u001b[39;00m obj \u001b[38;5;129;01mis\u001b[39;00m \u001b[38;5;129;01mnot\u001b[39;00m \u001b[38;5;28;01mNone\u001b[39;00m:\n",
      "\u001b[0;31mValueError\u001b[0m: data type <class 'numpy.object_'> not inexact"
     ]
    }
   ],
   "source": [
    "#Check the statistical significance of the clusters\n",
    "from scipy.stats import ttest_ind\n",
    "\n",
    "df1_0 = df1[df1['cluster'] == 1]\n",
    "df1_1 = df1[df1['cluster'] == 2]\n",
    "df1_2 = df1[df1['cluster'] == 3]\n",
    "df1_3 = df1[df1['cluster'] == 4]\n",
    "\n",
    "#Get the p-values for each gene\n",
    "p_values = []\n",
    "for gene in df1.columns[:-1]:\n",
    "    t_stat, p_val = ttest_ind(df1_0[gene],df1_1[gene])\n",
    "    p_values.append(p_val)\n",
    "\n",
    "df1_p = pd.DataFrame(p_values)\n",
    "df1_p.index = df1.columns[:-1]\n",
    "df1_p.columns = ['p_value']"
   ]
  },
  {
   "cell_type": "code",
   "execution_count": null,
   "metadata": {},
   "outputs": [],
   "source": []
  }
 ],
 "metadata": {
  "kernelspec": {
   "display_name": "o3c",
   "language": "python",
   "name": "python3"
  },
  "language_info": {
   "codemirror_mode": {
    "name": "ipython",
    "version": 3
   },
   "file_extension": ".py",
   "mimetype": "text/x-python",
   "name": "python",
   "nbconvert_exporter": "python",
   "pygments_lexer": "ipython3",
   "version": "3.10.15"
  }
 },
 "nbformat": 4,
 "nbformat_minor": 2
}
